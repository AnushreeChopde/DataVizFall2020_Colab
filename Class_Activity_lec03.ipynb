{
  "nbformat": 4,
  "nbformat_minor": 0,
  "metadata": {
    "colab": {
      "name": "Class_Activity_lec03.ipynb",
      "provenance": [],
      "collapsed_sections": [],
      "authorship_tag": "ABX9TyMzwWEexGJW9A+IvnjnBJ9M",
      "include_colab_link": true
    },
    "kernelspec": {
      "name": "python3",
      "display_name": "Python 3"
    }
  },
  "cells": [
    {
      "cell_type": "markdown",
      "metadata": {
        "id": "view-in-github",
        "colab_type": "text"
      },
      "source": [
        "<a href=\"https://colab.research.google.com/github/AnushreeChopde/DataVizFall2020_Colab/blob/master/Class_Activity_lec03.ipynb\" target=\"_parent\"><img src=\"https://colab.research.google.com/assets/colab-badge.svg\" alt=\"Open In Colab\"/></a>"
      ]
    },
    {
      "cell_type": "markdown",
      "metadata": {
        "id": "zZpEszwy-AOZ",
        "colab_type": "text"
      },
      "source": [
        "# Anushree Chopde"
      ]
    },
    {
      "cell_type": "markdown",
      "metadata": {
        "id": "7ILSrqvp-H-A",
        "colab_type": "text"
      },
      "source": [
        "# Visualize New York Times Database for COVID-19\n",
        "## Case Study Bristol and Suffolk, MA"
      ]
    },
    {
      "cell_type": "markdown",
      "metadata": {
        "id": "I80X1iK_-WX9",
        "colab_type": "text"
      },
      "source": [
        "## Loading US County Level Data"
      ]
    },
    {
      "cell_type": "code",
      "metadata": {
        "id": "p8blxwsO-bza",
        "colab_type": "code",
        "colab": {}
      },
      "source": [
        "import pandas as pd\n",
        "import matplotlib.pyplot as plt"
      ],
      "execution_count": 3,
      "outputs": []
    },
    {
      "cell_type": "code",
      "metadata": {
        "id": "lYXrutcy-jPP",
        "colab_type": "code",
        "colab": {}
      },
      "source": [
        "# https://github.com/nytimes/covid-19-data repository location\n",
        "db = \"https://raw.githubusercontent.com/nytimes/covid-19-data/master/us-counties.csv\"\n",
        "\n",
        "## loading data into dataframe\n",
        "df = pd.read_csv(db)"
      ],
      "execution_count": 4,
      "outputs": []
    },
    {
      "cell_type": "code",
      "metadata": {
        "id": "LflJ307T-6mt",
        "colab_type": "code",
        "colab": {
          "base_uri": "https://localhost:8080/",
          "height": 195
        },
        "outputId": "5e8770e9-85a6-4c08-a9a6-1eb031e32519"
      },
      "source": [
        "df.head(5)"
      ],
      "execution_count": 5,
      "outputs": [
        {
          "output_type": "execute_result",
          "data": {
            "text/html": [
              "<div>\n",
              "<style scoped>\n",
              "    .dataframe tbody tr th:only-of-type {\n",
              "        vertical-align: middle;\n",
              "    }\n",
              "\n",
              "    .dataframe tbody tr th {\n",
              "        vertical-align: top;\n",
              "    }\n",
              "\n",
              "    .dataframe thead th {\n",
              "        text-align: right;\n",
              "    }\n",
              "</style>\n",
              "<table border=\"1\" class=\"dataframe\">\n",
              "  <thead>\n",
              "    <tr style=\"text-align: right;\">\n",
              "      <th></th>\n",
              "      <th>date</th>\n",
              "      <th>county</th>\n",
              "      <th>state</th>\n",
              "      <th>fips</th>\n",
              "      <th>cases</th>\n",
              "      <th>deaths</th>\n",
              "    </tr>\n",
              "  </thead>\n",
              "  <tbody>\n",
              "    <tr>\n",
              "      <th>0</th>\n",
              "      <td>2020-01-21</td>\n",
              "      <td>Snohomish</td>\n",
              "      <td>Washington</td>\n",
              "      <td>53061.0</td>\n",
              "      <td>1</td>\n",
              "      <td>0</td>\n",
              "    </tr>\n",
              "    <tr>\n",
              "      <th>1</th>\n",
              "      <td>2020-01-22</td>\n",
              "      <td>Snohomish</td>\n",
              "      <td>Washington</td>\n",
              "      <td>53061.0</td>\n",
              "      <td>1</td>\n",
              "      <td>0</td>\n",
              "    </tr>\n",
              "    <tr>\n",
              "      <th>2</th>\n",
              "      <td>2020-01-23</td>\n",
              "      <td>Snohomish</td>\n",
              "      <td>Washington</td>\n",
              "      <td>53061.0</td>\n",
              "      <td>1</td>\n",
              "      <td>0</td>\n",
              "    </tr>\n",
              "    <tr>\n",
              "      <th>3</th>\n",
              "      <td>2020-01-24</td>\n",
              "      <td>Cook</td>\n",
              "      <td>Illinois</td>\n",
              "      <td>17031.0</td>\n",
              "      <td>1</td>\n",
              "      <td>0</td>\n",
              "    </tr>\n",
              "    <tr>\n",
              "      <th>4</th>\n",
              "      <td>2020-01-24</td>\n",
              "      <td>Snohomish</td>\n",
              "      <td>Washington</td>\n",
              "      <td>53061.0</td>\n",
              "      <td>1</td>\n",
              "      <td>0</td>\n",
              "    </tr>\n",
              "  </tbody>\n",
              "</table>\n",
              "</div>"
            ],
            "text/plain": [
              "         date     county       state     fips  cases  deaths\n",
              "0  2020-01-21  Snohomish  Washington  53061.0      1       0\n",
              "1  2020-01-22  Snohomish  Washington  53061.0      1       0\n",
              "2  2020-01-23  Snohomish  Washington  53061.0      1       0\n",
              "3  2020-01-24       Cook    Illinois  17031.0      1       0\n",
              "4  2020-01-24  Snohomish  Washington  53061.0      1       0"
            ]
          },
          "metadata": {
            "tags": []
          },
          "execution_count": 5
        }
      ]
    },
    {
      "cell_type": "code",
      "metadata": {
        "id": "gt0rbrZd_b1Z",
        "colab_type": "code",
        "colab": {
          "base_uri": "https://localhost:8080/",
          "height": 284
        },
        "outputId": "52f83663-e1c5-4711-e59d-1cc7972ef11e"
      },
      "source": [
        "df.describe()"
      ],
      "execution_count": 6,
      "outputs": [
        {
          "output_type": "execute_result",
          "data": {
            "text/html": [
              "<div>\n",
              "<style scoped>\n",
              "    .dataframe tbody tr th:only-of-type {\n",
              "        vertical-align: middle;\n",
              "    }\n",
              "\n",
              "    .dataframe tbody tr th {\n",
              "        vertical-align: top;\n",
              "    }\n",
              "\n",
              "    .dataframe thead th {\n",
              "        text-align: right;\n",
              "    }\n",
              "</style>\n",
              "<table border=\"1\" class=\"dataframe\">\n",
              "  <thead>\n",
              "    <tr style=\"text-align: right;\">\n",
              "      <th></th>\n",
              "      <th>fips</th>\n",
              "      <th>cases</th>\n",
              "      <th>deaths</th>\n",
              "    </tr>\n",
              "  </thead>\n",
              "  <tbody>\n",
              "    <tr>\n",
              "      <th>count</th>\n",
              "      <td>516515.000000</td>\n",
              "      <td>521534.000000</td>\n",
              "      <td>521534.000000</td>\n",
              "    </tr>\n",
              "    <tr>\n",
              "      <th>mean</th>\n",
              "      <td>31112.210654</td>\n",
              "      <td>905.890617</td>\n",
              "      <td>35.717286</td>\n",
              "    </tr>\n",
              "    <tr>\n",
              "      <th>std</th>\n",
              "      <td>16245.368054</td>\n",
              "      <td>5865.388093</td>\n",
              "      <td>400.523564</td>\n",
              "    </tr>\n",
              "    <tr>\n",
              "      <th>min</th>\n",
              "      <td>1001.000000</td>\n",
              "      <td>0.000000</td>\n",
              "      <td>0.000000</td>\n",
              "    </tr>\n",
              "    <tr>\n",
              "      <th>25%</th>\n",
              "      <td>18159.000000</td>\n",
              "      <td>13.000000</td>\n",
              "      <td>0.000000</td>\n",
              "    </tr>\n",
              "    <tr>\n",
              "      <th>50%</th>\n",
              "      <td>29181.000000</td>\n",
              "      <td>69.000000</td>\n",
              "      <td>1.000000</td>\n",
              "    </tr>\n",
              "    <tr>\n",
              "      <th>75%</th>\n",
              "      <td>46085.000000</td>\n",
              "      <td>334.000000</td>\n",
              "      <td>8.000000</td>\n",
              "    </tr>\n",
              "    <tr>\n",
              "      <th>max</th>\n",
              "      <td>78030.000000</td>\n",
              "      <td>251024.000000</td>\n",
              "      <td>23744.000000</td>\n",
              "    </tr>\n",
              "  </tbody>\n",
              "</table>\n",
              "</div>"
            ],
            "text/plain": [
              "                fips          cases         deaths\n",
              "count  516515.000000  521534.000000  521534.000000\n",
              "mean    31112.210654     905.890617      35.717286\n",
              "std     16245.368054    5865.388093     400.523564\n",
              "min      1001.000000       0.000000       0.000000\n",
              "25%     18159.000000      13.000000       0.000000\n",
              "50%     29181.000000      69.000000       1.000000\n",
              "75%     46085.000000     334.000000       8.000000\n",
              "max     78030.000000  251024.000000   23744.000000"
            ]
          },
          "metadata": {
            "tags": []
          },
          "execution_count": 6
        }
      ]
    },
    {
      "cell_type": "markdown",
      "metadata": {
        "id": "nD4oUkld_oio",
        "colab_type": "text"
      },
      "source": [
        "## Explore Data"
      ]
    },
    {
      "cell_type": "code",
      "metadata": {
        "id": "TFfWJ847_ray",
        "colab_type": "code",
        "colab": {
          "base_uri": "https://localhost:8080/",
          "height": 134
        },
        "outputId": "fead5bdc-4022-484e-fd27-61f8906ec513"
      },
      "source": [
        "df.nunique()"
      ],
      "execution_count": 7,
      "outputs": [
        {
          "output_type": "execute_result",
          "data": {
            "text/plain": [
              "date        234\n",
              "county     1923\n",
              "state        55\n",
              "fips       3205\n",
              "cases     16027\n",
              "deaths     2381\n",
              "dtype: int64"
            ]
          },
          "metadata": {
            "tags": []
          },
          "execution_count": 7
        }
      ]
    },
    {
      "cell_type": "code",
      "metadata": {
        "id": "n9xh-BJvCCu6",
        "colab_type": "code",
        "colab": {
          "base_uri": "https://localhost:8080/",
          "height": 50
        },
        "outputId": "c34b7bb4-4e7d-465f-fa7c-100ba10695f4"
      },
      "source": [
        "# let us get fips for 2 counties  (Bristol and Suffolk, MA)\n",
        "## fips stands for : Federal Information Processing Standards\n",
        "Bristol_fips = df[(df['county'] == 'Bristol') & (df['state'] == 'Massachusetts')]['fips'].unique()[0].astype('int')\n",
        "print(f'Bristol fips is {Bristol_fips}')\n",
        "\n",
        "Suffolk_fips = df[(df['county'] == 'Suffolk') & (df['state'] == 'Massachusetts')]['fips'].unique()[0].astype('int')\n",
        "print(f'Suffolk fips is {Suffolk_fips}')"
      ],
      "execution_count": 8,
      "outputs": [
        {
          "output_type": "stream",
          "text": [
            "Bristol fips is 25005\n",
            "Suffolk fips is 25025\n"
          ],
          "name": "stdout"
        }
      ]
    },
    {
      "cell_type": "code",
      "metadata": {
        "id": "VwEmgB9YSWNu",
        "colab_type": "code",
        "colab": {
          "base_uri": "https://localhost:8080/",
          "height": 225
        },
        "outputId": "17e2d259-ed23-4487-f522-11b94f932374"
      },
      "source": [
        "def get_county_stat(df,fips):\n",
        "  output = df[df['fips'] == fips][['date','county','state','cases','deaths']].copy()\n",
        "  output.set_index('date',inplace=True)\n",
        "  output.index = pd.to_datetime(output.index)\n",
        "  return output\n",
        "\n",
        "get_county_stat(df,Bristol_fips).head()\n",
        "#get_county_stat(df,Suffolk_fips).head()"
      ],
      "execution_count": 51,
      "outputs": [
        {
          "output_type": "execute_result",
          "data": {
            "text/html": [
              "<div>\n",
              "<style scoped>\n",
              "    .dataframe tbody tr th:only-of-type {\n",
              "        vertical-align: middle;\n",
              "    }\n",
              "\n",
              "    .dataframe tbody tr th {\n",
              "        vertical-align: top;\n",
              "    }\n",
              "\n",
              "    .dataframe thead th {\n",
              "        text-align: right;\n",
              "    }\n",
              "</style>\n",
              "<table border=\"1\" class=\"dataframe\">\n",
              "  <thead>\n",
              "    <tr style=\"text-align: right;\">\n",
              "      <th></th>\n",
              "      <th>county</th>\n",
              "      <th>state</th>\n",
              "      <th>cases</th>\n",
              "      <th>deaths</th>\n",
              "    </tr>\n",
              "    <tr>\n",
              "      <th>date</th>\n",
              "      <th></th>\n",
              "      <th></th>\n",
              "      <th></th>\n",
              "      <th></th>\n",
              "    </tr>\n",
              "  </thead>\n",
              "  <tbody>\n",
              "    <tr>\n",
              "      <th>2020-03-14</th>\n",
              "      <td>Bristol</td>\n",
              "      <td>Massachusetts</td>\n",
              "      <td>1</td>\n",
              "      <td>0</td>\n",
              "    </tr>\n",
              "    <tr>\n",
              "      <th>2020-03-15</th>\n",
              "      <td>Bristol</td>\n",
              "      <td>Massachusetts</td>\n",
              "      <td>1</td>\n",
              "      <td>0</td>\n",
              "    </tr>\n",
              "    <tr>\n",
              "      <th>2020-03-16</th>\n",
              "      <td>Bristol</td>\n",
              "      <td>Massachusetts</td>\n",
              "      <td>2</td>\n",
              "      <td>0</td>\n",
              "    </tr>\n",
              "    <tr>\n",
              "      <th>2020-03-17</th>\n",
              "      <td>Bristol</td>\n",
              "      <td>Massachusetts</td>\n",
              "      <td>5</td>\n",
              "      <td>0</td>\n",
              "    </tr>\n",
              "    <tr>\n",
              "      <th>2020-03-18</th>\n",
              "      <td>Bristol</td>\n",
              "      <td>Massachusetts</td>\n",
              "      <td>5</td>\n",
              "      <td>0</td>\n",
              "    </tr>\n",
              "  </tbody>\n",
              "</table>\n",
              "</div>"
            ],
            "text/plain": [
              "             county          state  cases  deaths\n",
              "date                                             \n",
              "2020-03-14  Bristol  Massachusetts      1       0\n",
              "2020-03-15  Bristol  Massachusetts      1       0\n",
              "2020-03-16  Bristol  Massachusetts      2       0\n",
              "2020-03-17  Bristol  Massachusetts      5       0\n",
              "2020-03-18  Bristol  Massachusetts      5       0"
            ]
          },
          "metadata": {
            "tags": []
          },
          "execution_count": 51
        }
      ]
    },
    {
      "cell_type": "markdown",
      "metadata": {
        "id": "92O76AIk8WB7",
        "colab_type": "text"
      },
      "source": [
        "## Explore Data Type"
      ]
    },
    {
      "cell_type": "code",
      "metadata": {
        "id": "V6JBXPAR8ZLx",
        "colab_type": "code",
        "colab": {
          "base_uri": "https://localhost:8080/",
          "height": 284
        },
        "outputId": "76159003-45b9-43d9-cba8-0e081c953917"
      },
      "source": [
        "df_Bristol = get_county_stat(df,25005)\n",
        "df_Bristol.describe()\n",
        "df_Suffolk = get_county_stat(df,25025)\n",
        "df_Suffolk.describe()"
      ],
      "execution_count": 21,
      "outputs": [
        {
          "output_type": "execute_result",
          "data": {
            "text/html": [
              "<div>\n",
              "<style scoped>\n",
              "    .dataframe tbody tr th:only-of-type {\n",
              "        vertical-align: middle;\n",
              "    }\n",
              "\n",
              "    .dataframe tbody tr th {\n",
              "        vertical-align: top;\n",
              "    }\n",
              "\n",
              "    .dataframe thead th {\n",
              "        text-align: right;\n",
              "    }\n",
              "</style>\n",
              "<table border=\"1\" class=\"dataframe\">\n",
              "  <thead>\n",
              "    <tr style=\"text-align: right;\">\n",
              "      <th></th>\n",
              "      <th>cases</th>\n",
              "      <th>deaths</th>\n",
              "    </tr>\n",
              "  </thead>\n",
              "  <tbody>\n",
              "    <tr>\n",
              "      <th>count</th>\n",
              "      <td>181.000000</td>\n",
              "      <td>181.000000</td>\n",
              "    </tr>\n",
              "    <tr>\n",
              "      <th>mean</th>\n",
              "      <td>6164.651934</td>\n",
              "      <td>398.828729</td>\n",
              "    </tr>\n",
              "    <tr>\n",
              "      <th>std</th>\n",
              "      <td>3387.379061</td>\n",
              "      <td>245.945587</td>\n",
              "    </tr>\n",
              "    <tr>\n",
              "      <th>min</th>\n",
              "      <td>1.000000</td>\n",
              "      <td>0.000000</td>\n",
              "    </tr>\n",
              "    <tr>\n",
              "      <th>25%</th>\n",
              "      <td>3270.000000</td>\n",
              "      <td>155.000000</td>\n",
              "    </tr>\n",
              "    <tr>\n",
              "      <th>50%</th>\n",
              "      <td>7872.000000</td>\n",
              "      <td>496.000000</td>\n",
              "    </tr>\n",
              "    <tr>\n",
              "      <th>75%</th>\n",
              "      <td>8907.000000</td>\n",
              "      <td>617.000000</td>\n",
              "    </tr>\n",
              "    <tr>\n",
              "      <th>max</th>\n",
              "      <td>9860.000000</td>\n",
              "      <td>670.000000</td>\n",
              "    </tr>\n",
              "  </tbody>\n",
              "</table>\n",
              "</div>"
            ],
            "text/plain": [
              "             cases      deaths\n",
              "count   181.000000  181.000000\n",
              "mean   6164.651934  398.828729\n",
              "std    3387.379061  245.945587\n",
              "min       1.000000    0.000000\n",
              "25%    3270.000000  155.000000\n",
              "50%    7872.000000  496.000000\n",
              "75%    8907.000000  617.000000\n",
              "max    9860.000000  670.000000"
            ]
          },
          "metadata": {
            "tags": []
          },
          "execution_count": 21
        }
      ]
    },
    {
      "cell_type": "code",
      "metadata": {
        "id": "wDP7K_vp8bas",
        "colab_type": "code",
        "colab": {
          "base_uri": "https://localhost:8080/",
          "height": 380
        },
        "outputId": "eacb5fd2-5e48-4f58-8e20-8815a5141bcb"
      },
      "source": [
        "f,ax = plt.subplots(1,2,figsize=(18,6))\n",
        "ax[0].plot(df_Bristol.index, df_Bristol.cases, label=\"Bristol Cases\")\n",
        "ax[0].plot(df_Bristol.index, df_Bristol.deaths, label=\"Bristol Deaths\")\n",
        "ax[0].plot(df_Suffolk.index, df_Suffolk.cases, label=\"Suffolk Cases\")\n",
        "ax[0].plot(df_Suffolk.index, df_Suffolk.deaths, label=\"Suffolk Deaths\")\n",
        "ax[0].legend()\n",
        "f.autofmt_xdate(rotation=45)\n",
        "f.savefig('covid-19.svg')\n",
        "\n",
        "df_Bristol_deaths = df_Bristol.loc[lambda df:df.index >= '2020-06-01',['deaths']]\n",
        "df_Suffolk_deaths = df_Suffolk.loc[lambda df:df.index >= '2020-06-01',['deaths']]\n",
        "\n",
        "width = 0.5       # the width of the bars: can also be len(x) sequence\n",
        "\n",
        "ax[1].bar(df_Bristol_deaths.index, df_Bristol_deaths.deaths, width, label='Bristol')\n",
        "ax[1].bar(df_Suffolk_deaths.index, df_Suffolk_deaths.deaths, width, bottom=df_Bristol_deaths.deaths, label='Suffolk')\n",
        "ax[1].legend()\n",
        "f.autofmt_xdate(rotation=45)\n"
      ],
      "execution_count": 108,
      "outputs": [
        {
          "output_type": "display_data",
          "data": {
            "image/png": "[encoded data removed]",
            "text/plain": [
              "<Figure size 1296x432 with 2 Axes>"
            ]
          },
          "metadata": {
            "tags": [],
            "needs_background": "light"
          }
        }
      ]
    },
    {
      "cell_type": "markdown",
      "metadata": {
        "id": "FgUdYUS_fl-B",
        "colab_type": "text"
      },
      "source": [
        "## Top 10 counties by number of cases and deaths"
      ]
    },
    {
      "cell_type": "code",
      "metadata": {
        "id": "Txe8n8b-NrWJ",
        "colab_type": "code",
        "colab": {
          "base_uri": "https://localhost:8080/",
          "height": 373
        },
        "outputId": "1b0f9683-437e-4a86-a924-64c6c861209a"
      },
      "source": [
        ""
      ],
      "execution_count": 75,
      "outputs": [
        {
          "output_type": "execute_result",
          "data": {
            "text/html": [
              "<div>\n",
              "<style scoped>\n",
              "    .dataframe tbody tr th:only-of-type {\n",
              "        vertical-align: middle;\n",
              "    }\n",
              "\n",
              "    .dataframe tbody tr th {\n",
              "        vertical-align: top;\n",
              "    }\n",
              "\n",
              "    .dataframe thead th {\n",
              "        text-align: right;\n",
              "    }\n",
              "</style>\n",
              "<table border=\"1\" class=\"dataframe\">\n",
              "  <thead>\n",
              "    <tr style=\"text-align: right;\">\n",
              "      <th></th>\n",
              "      <th>date</th>\n",
              "      <th>state</th>\n",
              "      <th>fips</th>\n",
              "      <th>cases</th>\n",
              "      <th>deaths</th>\n",
              "    </tr>\n",
              "    <tr>\n",
              "      <th>county</th>\n",
              "      <th></th>\n",
              "      <th></th>\n",
              "      <th></th>\n",
              "      <th></th>\n",
              "      <th></th>\n",
              "    </tr>\n",
              "  </thead>\n",
              "  <tbody>\n",
              "    <tr>\n",
              "      <th>Los Angeles</th>\n",
              "      <td>2020-09-10</td>\n",
              "      <td>California</td>\n",
              "      <td>6037.0</td>\n",
              "      <td>251024</td>\n",
              "      <td>6128</td>\n",
              "    </tr>\n",
              "    <tr>\n",
              "      <th>New York City</th>\n",
              "      <td>2020-09-10</td>\n",
              "      <td>New York</td>\n",
              "      <td>NaN</td>\n",
              "      <td>241686</td>\n",
              "      <td>23744</td>\n",
              "    </tr>\n",
              "    <tr>\n",
              "      <th>Miami-Dade</th>\n",
              "      <td>2020-09-10</td>\n",
              "      <td>Florida</td>\n",
              "      <td>12086.0</td>\n",
              "      <td>162893</td>\n",
              "      <td>2789</td>\n",
              "    </tr>\n",
              "    <tr>\n",
              "      <th>Maricopa</th>\n",
              "      <td>2020-09-10</td>\n",
              "      <td>Arizona</td>\n",
              "      <td>4013.0</td>\n",
              "      <td>136571</td>\n",
              "      <td>3133</td>\n",
              "    </tr>\n",
              "    <tr>\n",
              "      <th>Cook</th>\n",
              "      <td>2020-09-10</td>\n",
              "      <td>Minnesota</td>\n",
              "      <td>27031.0</td>\n",
              "      <td>132966</td>\n",
              "      <td>5103</td>\n",
              "    </tr>\n",
              "    <tr>\n",
              "      <th>Harris</th>\n",
              "      <td>2020-09-10</td>\n",
              "      <td>Texas</td>\n",
              "      <td>48201.0</td>\n",
              "      <td>113504</td>\n",
              "      <td>2363</td>\n",
              "    </tr>\n",
              "    <tr>\n",
              "      <th>Dallas</th>\n",
              "      <td>2020-09-10</td>\n",
              "      <td>Texas</td>\n",
              "      <td>48113.0</td>\n",
              "      <td>77948</td>\n",
              "      <td>1021</td>\n",
              "    </tr>\n",
              "    <tr>\n",
              "      <th>Broward</th>\n",
              "      <td>2020-09-10</td>\n",
              "      <td>Florida</td>\n",
              "      <td>12011.0</td>\n",
              "      <td>73869</td>\n",
              "      <td>1258</td>\n",
              "    </tr>\n",
              "    <tr>\n",
              "      <th>Clark</th>\n",
              "      <td>2020-09-10</td>\n",
              "      <td>Wisconsin</td>\n",
              "      <td>55019.0</td>\n",
              "      <td>61871</td>\n",
              "      <td>1240</td>\n",
              "    </tr>\n",
              "    <tr>\n",
              "      <th>Riverside</th>\n",
              "      <td>2020-09-10</td>\n",
              "      <td>California</td>\n",
              "      <td>6065.0</td>\n",
              "      <td>54868</td>\n",
              "      <td>1094</td>\n",
              "    </tr>\n",
              "  </tbody>\n",
              "</table>\n",
              "</div>"
            ],
            "text/plain": [
              "                     date       state     fips   cases  deaths\n",
              "county                                                        \n",
              "Los Angeles    2020-09-10  California   6037.0  251024    6128\n",
              "New York City  2020-09-10    New York      NaN  241686   23744\n",
              "Miami-Dade     2020-09-10     Florida  12086.0  162893    2789\n",
              "Maricopa       2020-09-10     Arizona   4013.0  136571    3133\n",
              "Cook           2020-09-10   Minnesota  27031.0  132966    5103\n",
              "Harris         2020-09-10       Texas  48201.0  113504    2363\n",
              "Dallas         2020-09-10       Texas  48113.0   77948    1021\n",
              "Broward        2020-09-10     Florida  12011.0   73869    1258\n",
              "Clark          2020-09-10   Wisconsin  55019.0   61871    1240\n",
              "Riverside      2020-09-10  California   6065.0   54868    1094"
            ]
          },
          "metadata": {
            "tags": []
          },
          "execution_count": 75
        }
      ]
    },
    {
      "cell_type": "code",
      "metadata": {
        "id": "pHsnt10jAI53",
        "colab_type": "code",
        "colab": {
          "base_uri": "https://localhost:8080/",
          "height": 218
        },
        "outputId": "a0edb09a-c0f5-48c8-85cd-34246914edb5"
      },
      "source": [
        "top_ten_cases = df.groupby('county').max().sort_values(by='cases', ascending=False)[:10]\n",
        "pd.set_option('display.max_column', None)\n",
        "print(top_ten_cases)"
      ],
      "execution_count": 27,
      "outputs": [
        {
          "output_type": "stream",
          "text": [
            "                     date       state     fips   cases  deaths\n",
            "county                                                        \n",
            "Los Angeles    2020-09-10  California   6037.0  251024    6128\n",
            "New York City  2020-09-10    New York      NaN  241686   23744\n",
            "Miami-Dade     2020-09-10     Florida  12086.0  162893    2789\n",
            "Maricopa       2020-09-10     Arizona   4013.0  136571    3133\n",
            "Cook           2020-09-10   Minnesota  27031.0  132966    5103\n",
            "Harris         2020-09-10       Texas  48201.0  113504    2363\n",
            "Dallas         2020-09-10       Texas  48113.0   77948    1021\n",
            "Broward        2020-09-10     Florida  12011.0   73869    1258\n",
            "Clark          2020-09-10   Wisconsin  55019.0   61871    1240\n",
            "Riverside      2020-09-10  California   6065.0   54868    1094\n"
          ],
          "name": "stdout"
        }
      ]
    },
    {
      "cell_type": "code",
      "metadata": {
        "id": "KlRQH6mBghM5",
        "colab_type": "code",
        "colab": {
          "base_uri": "https://localhost:8080/",
          "height": 218
        },
        "outputId": "375938d4-87f2-4f85-a46c-b82b8a1ba028"
      },
      "source": [
        "top_ten_deaths = df.groupby('county').max().sort_values(by='deaths', ascending=False)[:10]\n",
        "pd.set_option('display.max_column', None)\n",
        "print(top_ten_deaths)"
      ],
      "execution_count": 28,
      "outputs": [
        {
          "output_type": "stream",
          "text": [
            "                     date          state     fips   cases  deaths\n",
            "county                                                           \n",
            "New York City  2020-09-10       New York      NaN  241686   23744\n",
            "Los Angeles    2020-09-10     California   6037.0  251024    6128\n",
            "Cook           2020-09-10      Minnesota  27031.0  132966    5103\n",
            "Maricopa       2020-09-10        Arizona   4013.0  136571    3133\n",
            "Wayne          2020-09-10  West Virginia  54099.0   32877    2941\n",
            "Miami-Dade     2020-09-10        Florida  12086.0  162893    2789\n",
            "Nassau         2020-09-10       New York  36059.0   45445    2706\n",
            "Harris         2020-09-10          Texas  48201.0  113504    2363\n",
            "Essex          2020-09-10       Virginia  51057.0   20820    2121\n",
            "Middlesex      2020-09-10       Virginia  51119.0   27769    2094\n"
          ],
          "name": "stdout"
        }
      ]
    },
    {
      "cell_type": "markdown",
      "metadata": {
        "id": "OE6JuufuLcBI",
        "colab_type": "text"
      },
      "source": [
        "### Death rate per FIPS"
      ]
    },
    {
      "cell_type": "code",
      "metadata": {
        "id": "iudGuZKTUpD_",
        "colab_type": "code",
        "colab": {}
      },
      "source": [
        "data_per_fips = df.loc[lambda df: df['date'] == df['date'].max(), ['county', 'state', 'fips', 'cases', 'deaths']]\n",
        "data_per_fips_countywise = data_per_fips.set_index('county')\n",
        "cases = data_per_fips_countywise['cases']\n",
        "deaths = data_per_fips_countywise['deaths']"
      ],
      "execution_count": 104,
      "outputs": []
    },
    {
      "cell_type": "code",
      "metadata": {
        "id": "IUyhZc7vWmsf",
        "colab_type": "code",
        "colab": {
          "base_uri": "https://localhost:8080/",
          "height": 235
        },
        "outputId": "25cc1182-3632-4110-e8de-1fbf2190c5a9"
      },
      "source": [
        "death_rate_per_fips = (deaths / cases) * 100\n",
        "death_rate_per_fips"
      ],
      "execution_count": 106,
      "outputs": [
        {
          "output_type": "execute_result",
          "data": {
            "text/plain": [
              "county\n",
              "Autauga       1.554404\n",
              "Baldwin       0.951790\n",
              "Barbour       0.891720\n",
              "Bibb          1.515152\n",
              "Blount        0.839161\n",
              "                ...   \n",
              "Sweetwater    0.626959\n",
              "Teton         0.220751\n",
              "Uinta         0.645161\n",
              "Washakie      5.454545\n",
              "Weston        0.000000\n",
              "Length: 3237, dtype: float64"
            ]
          },
          "metadata": {
            "tags": []
          },
          "execution_count": 106
        }
      ]
    },
    {
      "cell_type": "markdown",
      "metadata": {
        "id": "RwS8UaxR7sqk",
        "colab_type": "text"
      },
      "source": [
        "## Bonus Point\n",
        "## A function that makes \"Folium Choropleth Map\" for Weekly Cases, Weekly Deaths and Weekly Mortality Rate\n",
        "### ALL COUNTIES\n",
        "\n",
        "\n",
        "#### def Folium_Choropleth(type = 'cases',date=''):\n"
      ]
    },
    {
      "cell_type": "code",
      "metadata": {
        "id": "cn3GHzr-2a6D",
        "colab_type": "code",
        "colab": {}
      },
      "source": [
        "import folium\n",
        "from folium import plugins\n",
        "from folium.plugins import HeatMap\n",
        "\n",
        "#df_daily = df.diff().fillna(0)\n",
        "#df_daily.tail(10)\n",
        "\n"
      ],
      "execution_count": null,
      "outputs": []
    },
    {
      "cell_type": "code",
      "metadata": {
        "id": "5YQNfoXB71k2",
        "colab_type": "code",
        "colab": {}
      },
      "source": [
        "#df_rolling_avg = df_daily.iloc[-14:].rolling(window=7).mean().fillna(0)\n",
        "\n",
        "#def Folium_Choropleth(type = 'cases', date=' '):\n"
      ],
      "execution_count": null,
      "outputs": []
    }
  ]
}