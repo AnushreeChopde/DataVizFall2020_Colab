{
  "nbformat": 4,
  "nbformat_minor": 0,
  "metadata": {
    "colab": {
      "name": "Class_Activity_lec03.ipynb",
      "provenance": [],
      "collapsed_sections": [],
      "authorship_tag": "ABX9TyNMCHfc/JYE8Em8Jhfal8gj",
      "include_colab_link": true
    },
    "kernelspec": {
      "name": "python3",
      "display_name": "Python 3"
    }
  },
  "cells": [
    {
      "cell_type": "markdown",
      "metadata": {
        "id": "view-in-github",
        "colab_type": "text"
      },
      "source": [
        "<a href=\"https://colab.research.google.com/github/AnushreeChopde/DataVizFall2020_Colab/blob/master/Class_Activity_lec03.ipynb\" target=\"_parent\"><img src=\"https://colab.research.google.com/assets/colab-badge.svg\" alt=\"Open In Colab\"/></a>"
      ]
    },
    {
      "cell_type": "markdown",
      "metadata": {
        "id": "zZpEszwy-AOZ",
        "colab_type": "text"
      },
      "source": [
        "# Anushree Chopde"
      ]
    },
    {
      "cell_type": "markdown",
      "metadata": {
        "id": "7ILSrqvp-H-A",
        "colab_type": "text"
      },
      "source": [
        "# Visualize New York Times Database for COVID-19\n",
        "## Case Study Bristol and Suffolk, MA"
      ]
    },
    {
      "cell_type": "markdown",
      "metadata": {
        "id": "I80X1iK_-WX9",
        "colab_type": "text"
      },
      "source": [
        "## Loading US County Level Data"
      ]
    },
    {
      "cell_type": "code",
      "metadata": {
        "id": "p8blxwsO-bza",
        "colab_type": "code",
        "colab": {}
      },
      "source": [
        "import pandas as pd\n",
        "import matplotlib.pyplot as plt"
      ],
      "execution_count": 2,
      "outputs": []
    },
    {
      "cell_type": "code",
      "metadata": {
        "id": "lYXrutcy-jPP",
        "colab_type": "code",
        "colab": {}
      },
      "source": [
        "# https://github.com/nytimes/covid-19-data repository location\n",
        "db = \"https://raw.githubusercontent.com/nytimes/covid-19-data/master/us-counties.csv\"\n",
        "\n",
        "## loading data into dataframe\n",
        "df = pd.read_csv(db)"
      ],
      "execution_count": 3,
      "outputs": []
    },
    {
      "cell_type": "code",
      "metadata": {
        "id": "LflJ307T-6mt",
        "colab_type": "code",
        "colab": {
          "base_uri": "https://localhost:8080/",
          "height": 195
        },
        "outputId": "3cdf5355-77aa-4cf7-f200-cac198efe43b"
      },
      "source": [
        "df.head(5)"
      ],
      "execution_count": 4,
      "outputs": [
        {
          "output_type": "execute_result",
          "data": {
            "text/html": [
              "<div>\n",
              "<style scoped>\n",
              "    .dataframe tbody tr th:only-of-type {\n",
              "        vertical-align: middle;\n",
              "    }\n",
              "\n",
              "    .dataframe tbody tr th {\n",
              "        vertical-align: top;\n",
              "    }\n",
              "\n",
              "    .dataframe thead th {\n",
              "        text-align: right;\n",
              "    }\n",
              "</style>\n",
              "<table border=\"1\" class=\"dataframe\">\n",
              "  <thead>\n",
              "    <tr style=\"text-align: right;\">\n",
              "      <th></th>\n",
              "      <th>date</th>\n",
              "      <th>county</th>\n",
              "      <th>state</th>\n",
              "      <th>fips</th>\n",
              "      <th>cases</th>\n",
              "      <th>deaths</th>\n",
              "    </tr>\n",
              "  </thead>\n",
              "  <tbody>\n",
              "    <tr>\n",
              "      <th>0</th>\n",
              "      <td>2020-01-21</td>\n",
              "      <td>Snohomish</td>\n",
              "      <td>Washington</td>\n",
              "      <td>53061.0</td>\n",
              "      <td>1</td>\n",
              "      <td>0</td>\n",
              "    </tr>\n",
              "    <tr>\n",
              "      <th>1</th>\n",
              "      <td>2020-01-22</td>\n",
              "      <td>Snohomish</td>\n",
              "      <td>Washington</td>\n",
              "      <td>53061.0</td>\n",
              "      <td>1</td>\n",
              "      <td>0</td>\n",
              "    </tr>\n",
              "    <tr>\n",
              "      <th>2</th>\n",
              "      <td>2020-01-23</td>\n",
              "      <td>Snohomish</td>\n",
              "      <td>Washington</td>\n",
              "      <td>53061.0</td>\n",
              "      <td>1</td>\n",
              "      <td>0</td>\n",
              "    </tr>\n",
              "    <tr>\n",
              "      <th>3</th>\n",
              "      <td>2020-01-24</td>\n",
              "      <td>Cook</td>\n",
              "      <td>Illinois</td>\n",
              "      <td>17031.0</td>\n",
              "      <td>1</td>\n",
              "      <td>0</td>\n",
              "    </tr>\n",
              "    <tr>\n",
              "      <th>4</th>\n",
              "      <td>2020-01-24</td>\n",
              "      <td>Snohomish</td>\n",
              "      <td>Washington</td>\n",
              "      <td>53061.0</td>\n",
              "      <td>1</td>\n",
              "      <td>0</td>\n",
              "    </tr>\n",
              "  </tbody>\n",
              "</table>\n",
              "</div>"
            ],
            "text/plain": [
              "         date     county       state     fips  cases  deaths\n",
              "0  2020-01-21  Snohomish  Washington  53061.0      1       0\n",
              "1  2020-01-22  Snohomish  Washington  53061.0      1       0\n",
              "2  2020-01-23  Snohomish  Washington  53061.0      1       0\n",
              "3  2020-01-24       Cook    Illinois  17031.0      1       0\n",
              "4  2020-01-24  Snohomish  Washington  53061.0      1       0"
            ]
          },
          "metadata": {
            "tags": []
          },
          "execution_count": 4
        }
      ]
    },
    {
      "cell_type": "code",
      "metadata": {
        "id": "gt0rbrZd_b1Z",
        "colab_type": "code",
        "colab": {
          "base_uri": "https://localhost:8080/",
          "height": 284
        },
        "outputId": "ef09a685-f5c5-44ad-c907-57b5ae5c1e34"
      },
      "source": [
        "df.describe()"
      ],
      "execution_count": 5,
      "outputs": [
        {
          "output_type": "execute_result",
          "data": {
            "text/html": [
              "<div>\n",
              "<style scoped>\n",
              "    .dataframe tbody tr th:only-of-type {\n",
              "        vertical-align: middle;\n",
              "    }\n",
              "\n",
              "    .dataframe tbody tr th {\n",
              "        vertical-align: top;\n",
              "    }\n",
              "\n",
              "    .dataframe thead th {\n",
              "        text-align: right;\n",
              "    }\n",
              "</style>\n",
              "<table border=\"1\" class=\"dataframe\">\n",
              "  <thead>\n",
              "    <tr style=\"text-align: right;\">\n",
              "      <th></th>\n",
              "      <th>fips</th>\n",
              "      <th>cases</th>\n",
              "      <th>deaths</th>\n",
              "    </tr>\n",
              "  </thead>\n",
              "  <tbody>\n",
              "    <tr>\n",
              "      <th>count</th>\n",
              "      <td>532540.000000</td>\n",
              "      <td>537714.000000</td>\n",
              "      <td>537714.000000</td>\n",
              "    </tr>\n",
              "    <tr>\n",
              "      <th>mean</th>\n",
              "      <td>31123.141024</td>\n",
              "      <td>939.448930</td>\n",
              "      <td>36.442190</td>\n",
              "    </tr>\n",
              "    <tr>\n",
              "      <th>std</th>\n",
              "      <td>16249.390281</td>\n",
              "      <td>5996.932273</td>\n",
              "      <td>403.115308</td>\n",
              "    </tr>\n",
              "    <tr>\n",
              "      <th>min</th>\n",
              "      <td>1001.000000</td>\n",
              "      <td>0.000000</td>\n",
              "      <td>0.000000</td>\n",
              "    </tr>\n",
              "    <tr>\n",
              "      <th>25%</th>\n",
              "      <td>18161.000000</td>\n",
              "      <td>14.000000</td>\n",
              "      <td>0.000000</td>\n",
              "    </tr>\n",
              "    <tr>\n",
              "      <th>50%</th>\n",
              "      <td>29183.000000</td>\n",
              "      <td>73.000000</td>\n",
              "      <td>1.000000</td>\n",
              "    </tr>\n",
              "    <tr>\n",
              "      <th>75%</th>\n",
              "      <td>46085.000000</td>\n",
              "      <td>354.000000</td>\n",
              "      <td>9.000000</td>\n",
              "    </tr>\n",
              "    <tr>\n",
              "      <th>max</th>\n",
              "      <td>78030.000000</td>\n",
              "      <td>255049.000000</td>\n",
              "      <td>23758.000000</td>\n",
              "    </tr>\n",
              "  </tbody>\n",
              "</table>\n",
              "</div>"
            ],
            "text/plain": [
              "                fips          cases         deaths\n",
              "count  532540.000000  537714.000000  537714.000000\n",
              "mean    31123.141024     939.448930      36.442190\n",
              "std     16249.390281    5996.932273     403.115308\n",
              "min      1001.000000       0.000000       0.000000\n",
              "25%     18161.000000      14.000000       0.000000\n",
              "50%     29183.000000      73.000000       1.000000\n",
              "75%     46085.000000     354.000000       9.000000\n",
              "max     78030.000000  255049.000000   23758.000000"
            ]
          },
          "metadata": {
            "tags": []
          },
          "execution_count": 5
        }
      ]
    },
    {
      "cell_type": "markdown",
      "metadata": {
        "id": "nD4oUkld_oio",
        "colab_type": "text"
      },
      "source": [
        "## Explore Data"
      ]
    },
    {
      "cell_type": "code",
      "metadata": {
        "id": "TFfWJ847_ray",
        "colab_type": "code",
        "colab": {
          "base_uri": "https://localhost:8080/",
          "height": 134
        },
        "outputId": "51e04a8f-76ef-4cfb-c52e-fcaae2555373"
      },
      "source": [
        "df.nunique()"
      ],
      "execution_count": 6,
      "outputs": [
        {
          "output_type": "execute_result",
          "data": {
            "text/plain": [
              "date        239\n",
              "county     1923\n",
              "state        55\n",
              "fips       3205\n",
              "cases     16559\n",
              "deaths     2429\n",
              "dtype: int64"
            ]
          },
          "metadata": {
            "tags": []
          },
          "execution_count": 6
        }
      ]
    },
    {
      "cell_type": "code",
      "metadata": {
        "id": "n9xh-BJvCCu6",
        "colab_type": "code",
        "colab": {
          "base_uri": "https://localhost:8080/",
          "height": 50
        },
        "outputId": "1c420fc2-9ed8-404a-9efa-f184a05f497a"
      },
      "source": [
        "# let us get fips for 2 counties  (Bristol and Suffolk, MA)\n",
        "## fips stands for : Federal Information Processing Standards\n",
        "Bristol_fips = df[(df['county'] == 'Bristol') & (df['state'] == 'Massachusetts')]['fips'].unique()[0].astype('int')\n",
        "print(f'Bristol fips is {Bristol_fips}')\n",
        "\n",
        "Suffolk_fips = df[(df['county'] == 'Suffolk') & (df['state'] == 'Massachusetts')]['fips'].unique()[0].astype('int')\n",
        "print(f'Suffolk fips is {Suffolk_fips}')"
      ],
      "execution_count": 7,
      "outputs": [
        {
          "output_type": "stream",
          "text": [
            "Bristol fips is 25005\n",
            "Suffolk fips is 25025\n"
          ],
          "name": "stdout"
        }
      ]
    },
    {
      "cell_type": "code",
      "metadata": {
        "id": "VwEmgB9YSWNu",
        "colab_type": "code",
        "colab": {
          "base_uri": "https://localhost:8080/",
          "height": 225
        },
        "outputId": "d9d3c1c2-f03c-445b-f23d-86b47746c5db"
      },
      "source": [
        "def get_county_stat(df,fips):\n",
        "  output = df[df['fips'] == fips][['date','county','state','cases','deaths']].copy()\n",
        "  output.set_index('date',inplace=True)\n",
        "  output.index = pd.to_datetime(output.index)\n",
        "  return output\n",
        "\n",
        "get_county_stat(df,Bristol_fips).head()\n",
        "#get_county_stat(df,Suffolk_fips).head()"
      ],
      "execution_count": 8,
      "outputs": [
        {
          "output_type": "execute_result",
          "data": {
            "text/html": [
              "<div>\n",
              "<style scoped>\n",
              "    .dataframe tbody tr th:only-of-type {\n",
              "        vertical-align: middle;\n",
              "    }\n",
              "\n",
              "    .dataframe tbody tr th {\n",
              "        vertical-align: top;\n",
              "    }\n",
              "\n",
              "    .dataframe thead th {\n",
              "        text-align: right;\n",
              "    }\n",
              "</style>\n",
              "<table border=\"1\" class=\"dataframe\">\n",
              "  <thead>\n",
              "    <tr style=\"text-align: right;\">\n",
              "      <th></th>\n",
              "      <th>county</th>\n",
              "      <th>state</th>\n",
              "      <th>cases</th>\n",
              "      <th>deaths</th>\n",
              "    </tr>\n",
              "    <tr>\n",
              "      <th>date</th>\n",
              "      <th></th>\n",
              "      <th></th>\n",
              "      <th></th>\n",
              "      <th></th>\n",
              "    </tr>\n",
              "  </thead>\n",
              "  <tbody>\n",
              "    <tr>\n",
              "      <th>2020-03-14</th>\n",
              "      <td>Bristol</td>\n",
              "      <td>Massachusetts</td>\n",
              "      <td>1</td>\n",
              "      <td>0</td>\n",
              "    </tr>\n",
              "    <tr>\n",
              "      <th>2020-03-15</th>\n",
              "      <td>Bristol</td>\n",
              "      <td>Massachusetts</td>\n",
              "      <td>1</td>\n",
              "      <td>0</td>\n",
              "    </tr>\n",
              "    <tr>\n",
              "      <th>2020-03-16</th>\n",
              "      <td>Bristol</td>\n",
              "      <td>Massachusetts</td>\n",
              "      <td>2</td>\n",
              "      <td>0</td>\n",
              "    </tr>\n",
              "    <tr>\n",
              "      <th>2020-03-17</th>\n",
              "      <td>Bristol</td>\n",
              "      <td>Massachusetts</td>\n",
              "      <td>5</td>\n",
              "      <td>0</td>\n",
              "    </tr>\n",
              "    <tr>\n",
              "      <th>2020-03-18</th>\n",
              "      <td>Bristol</td>\n",
              "      <td>Massachusetts</td>\n",
              "      <td>5</td>\n",
              "      <td>0</td>\n",
              "    </tr>\n",
              "  </tbody>\n",
              "</table>\n",
              "</div>"
            ],
            "text/plain": [
              "             county          state  cases  deaths\n",
              "date                                             \n",
              "2020-03-14  Bristol  Massachusetts      1       0\n",
              "2020-03-15  Bristol  Massachusetts      1       0\n",
              "2020-03-16  Bristol  Massachusetts      2       0\n",
              "2020-03-17  Bristol  Massachusetts      5       0\n",
              "2020-03-18  Bristol  Massachusetts      5       0"
            ]
          },
          "metadata": {
            "tags": []
          },
          "execution_count": 8
        }
      ]
    },
    {
      "cell_type": "markdown",
      "metadata": {
        "id": "92O76AIk8WB7",
        "colab_type": "text"
      },
      "source": [
        "## Explore Data Type"
      ]
    },
    {
      "cell_type": "code",
      "metadata": {
        "id": "V6JBXPAR8ZLx",
        "colab_type": "code",
        "colab": {
          "base_uri": "https://localhost:8080/",
          "height": 284
        },
        "outputId": "ae687728-324b-49df-d5e8-04e5ce6f1151"
      },
      "source": [
        "df_Bristol = get_county_stat(df,25005)\n",
        "df_Bristol.describe()\n",
        "df_Suffolk = get_county_stat(df,25025)\n",
        "df_Suffolk.describe()"
      ],
      "execution_count": 9,
      "outputs": [
        {
          "output_type": "execute_result",
          "data": {
            "text/html": [
              "<div>\n",
              "<style scoped>\n",
              "    .dataframe tbody tr th:only-of-type {\n",
              "        vertical-align: middle;\n",
              "    }\n",
              "\n",
              "    .dataframe tbody tr th {\n",
              "        vertical-align: top;\n",
              "    }\n",
              "\n",
              "    .dataframe thead th {\n",
              "        text-align: right;\n",
              "    }\n",
              "</style>\n",
              "<table border=\"1\" class=\"dataframe\">\n",
              "  <thead>\n",
              "    <tr style=\"text-align: right;\">\n",
              "      <th></th>\n",
              "      <th>cases</th>\n",
              "      <th>deaths</th>\n",
              "    </tr>\n",
              "  </thead>\n",
              "  <tbody>\n",
              "    <tr>\n",
              "      <th>count</th>\n",
              "      <td>228.000000</td>\n",
              "      <td>228.000000</td>\n",
              "    </tr>\n",
              "    <tr>\n",
              "      <th>mean</th>\n",
              "      <td>12976.859649</td>\n",
              "      <td>614.802632</td>\n",
              "    </tr>\n",
              "    <tr>\n",
              "      <th>std</th>\n",
              "      <td>9128.734575</td>\n",
              "      <td>463.221758</td>\n",
              "    </tr>\n",
              "    <tr>\n",
              "      <th>min</th>\n",
              "      <td>1.000000</td>\n",
              "      <td>0.000000</td>\n",
              "    </tr>\n",
              "    <tr>\n",
              "      <th>25%</th>\n",
              "      <td>915.750000</td>\n",
              "      <td>5.000000</td>\n",
              "    </tr>\n",
              "    <tr>\n",
              "      <th>50%</th>\n",
              "      <td>17448.500000</td>\n",
              "      <td>838.500000</td>\n",
              "    </tr>\n",
              "    <tr>\n",
              "      <th>75%</th>\n",
              "      <td>20628.250000</td>\n",
              "      <td>1036.000000</td>\n",
              "    </tr>\n",
              "    <tr>\n",
              "      <th>max</th>\n",
              "      <td>23552.000000</td>\n",
              "      <td>1120.000000</td>\n",
              "    </tr>\n",
              "  </tbody>\n",
              "</table>\n",
              "</div>"
            ],
            "text/plain": [
              "              cases       deaths\n",
              "count    228.000000   228.000000\n",
              "mean   12976.859649   614.802632\n",
              "std     9128.734575   463.221758\n",
              "min        1.000000     0.000000\n",
              "25%      915.750000     5.000000\n",
              "50%    17448.500000   838.500000\n",
              "75%    20628.250000  1036.000000\n",
              "max    23552.000000  1120.000000"
            ]
          },
          "metadata": {
            "tags": []
          },
          "execution_count": 9
        }
      ]
    },
    {
      "cell_type": "code",
      "metadata": {
        "id": "wDP7K_vp8bas",
        "colab_type": "code",
        "colab": {
          "base_uri": "https://localhost:8080/",
          "height": 380
        },
        "outputId": "2e2fb4a5-28cf-425d-9425-bb3f7725bb19"
      },
      "source": [
        "f,ax = plt.subplots(1,2,figsize=(18,6))\n",
        "ax[0].plot(df_Bristol.index, df_Bristol.cases, label=\"Bristol Cases\")\n",
        "ax[0].plot(df_Bristol.index, df_Bristol.deaths, label=\"Bristol Deaths\")\n",
        "ax[0].plot(df_Suffolk.index, df_Suffolk.cases, label=\"Suffolk Cases\")\n",
        "ax[0].plot(df_Suffolk.index, df_Suffolk.deaths, label=\"Suffolk Deaths\")\n",
        "ax[0].legend()\n",
        "f.autofmt_xdate(rotation=45)\n",
        "f.savefig('covid-19.svg')\n",
        "\n",
        "df_Bristol_deaths = df_Bristol.loc[lambda df:df.index >= '2020-06-01',['deaths']]\n",
        "df_Suffolk_deaths = df_Suffolk.loc[lambda df:df.index >= '2020-06-01',['deaths']]\n",
        "\n",
        "width = 0.5       # the width of the bars: can also be len(x) sequence\n",
        "\n",
        "ax[1].bar(df_Bristol_deaths.index, df_Bristol_deaths.deaths, width, label='Bristol')\n",
        "ax[1].bar(df_Suffolk_deaths.index, df_Suffolk_deaths.deaths, width, bottom=df_Bristol_deaths.deaths, label='Suffolk')\n",
        "ax[1].legend()\n",
        "f.autofmt_xdate(rotation=45)\n"
      ],
      "execution_count": 10,
      "outputs": [
        {
          "output_type": "display_data",
          "data": {
            "image/png": "[encoded data removed]",
            "text/plain": [
              "<Figure size 1296x432 with 2 Axes>"
            ]
          },
          "metadata": {
            "tags": [],
            "needs_background": "light"
          }
        }
      ]
    },
    {
      "cell_type": "markdown",
      "metadata": {
        "id": "FgUdYUS_fl-B",
        "colab_type": "text"
      },
      "source": [
        "## Top 10 counties by number of cases and deaths"
      ]
    },
    {
      "cell_type": "code",
      "metadata": {
        "id": "Txe8n8b-NrWJ",
        "colab_type": "code",
        "colab": {}
      },
      "source": [
        ""
      ],
      "execution_count": 10,
      "outputs": []
    },
    {
      "cell_type": "code",
      "metadata": {
        "id": "pHsnt10jAI53",
        "colab_type": "code",
        "colab": {
          "base_uri": "https://localhost:8080/",
          "height": 218
        },
        "outputId": "00fa3ab1-a38b-4e39-a337-3d4c8a09adb5"
      },
      "source": [
        "top_ten_cases = df.groupby('county').max().sort_values(by='cases', ascending=False)[:10]\n",
        "pd.set_option('display.max_column', None)\n",
        "print(top_ten_cases)"
      ],
      "execution_count": 11,
      "outputs": [
        {
          "output_type": "stream",
          "text": [
            "                     date       state     fips   cases  deaths\n",
            "county                                                        \n",
            "Los Angeles    2020-09-15  California   6037.0  255049    6273\n",
            "New York City  2020-09-15    New York      NaN  243061   23758\n",
            "Miami-Dade     2020-09-15     Florida  12086.0  164687    2923\n",
            "Maricopa       2020-09-15     Arizona   4013.0  137870    3172\n",
            "Cook           2020-09-15   Minnesota  27031.0  135690    5137\n",
            "Harris         2020-09-15       Texas  48201.0  120336    2440\n",
            "Dallas         2020-09-15       Texas  48113.0   79474    1050\n",
            "Broward        2020-09-15     Florida  12011.0   74689    1288\n",
            "Clark          2020-09-15   Wisconsin  55019.0   62952    1287\n",
            "Riverside      2020-09-15  California   6065.0   55986    1125\n"
          ],
          "name": "stdout"
        }
      ]
    },
    {
      "cell_type": "code",
      "metadata": {
        "id": "KlRQH6mBghM5",
        "colab_type": "code",
        "colab": {
          "base_uri": "https://localhost:8080/",
          "height": 218
        },
        "outputId": "a5dc4738-0750-4b45-8865-11b6991ea064"
      },
      "source": [
        "top_ten_deaths = df.groupby('county').max().sort_values(by='deaths', ascending=False)[:10]\n",
        "pd.set_option('display.max_column', None)\n",
        "print(top_ten_deaths)"
      ],
      "execution_count": 12,
      "outputs": [
        {
          "output_type": "stream",
          "text": [
            "                     date          state     fips   cases  deaths\n",
            "county                                                           \n",
            "New York City  2020-09-15       New York      NaN  243061   23758\n",
            "Los Angeles    2020-09-15     California   6037.0  255049    6273\n",
            "Cook           2020-09-15      Minnesota  27031.0  135690    5137\n",
            "Maricopa       2020-09-15        Arizona   4013.0  137870    3172\n",
            "Wayne          2020-09-15  West Virginia  54099.0   33678    2948\n",
            "Miami-Dade     2020-09-15        Florida  12086.0  164687    2923\n",
            "Nassau         2020-09-15       New York  36059.0   45840    2706\n",
            "Harris         2020-09-15          Texas  48201.0  120336    2440\n",
            "Essex          2020-09-15       Virginia  51057.0   20931    2123\n",
            "Middlesex      2020-09-15       Virginia  51119.0   27732    2109\n"
          ],
          "name": "stdout"
        }
      ]
    },
    {
      "cell_type": "code",
      "metadata": {
        "id": "Rp_0fEWtMvYe",
        "colab_type": "code",
        "colab": {
          "base_uri": "https://localhost:8080/",
          "height": 373
        },
        "outputId": "47df739f-655c-412f-845f-bd8f9588d31e"
      },
      "source": [
        "## Week 3 (Monday)\n",
        "\n",
        "df.groupby('fips').last().sort_values(by='cases', ascending=False).head(10)\n",
        "\n",
        "#grp = df.groupby('fips')#['date'].last().unique()#.last()#.sort_values(by='cases',ascending=False ).head(10)"
      ],
      "execution_count": 85,
      "outputs": [
        {
          "output_type": "execute_result",
          "data": {
            "text/html": [
              "<div>\n",
              "<style scoped>\n",
              "    .dataframe tbody tr th:only-of-type {\n",
              "        vertical-align: middle;\n",
              "    }\n",
              "\n",
              "    .dataframe tbody tr th {\n",
              "        vertical-align: top;\n",
              "    }\n",
              "\n",
              "    .dataframe thead th {\n",
              "        text-align: right;\n",
              "    }\n",
              "</style>\n",
              "<table border=\"1\" class=\"dataframe\">\n",
              "  <thead>\n",
              "    <tr style=\"text-align: right;\">\n",
              "      <th></th>\n",
              "      <th>date</th>\n",
              "      <th>county</th>\n",
              "      <th>state</th>\n",
              "      <th>cases</th>\n",
              "      <th>deaths</th>\n",
              "    </tr>\n",
              "    <tr>\n",
              "      <th>fips</th>\n",
              "      <th></th>\n",
              "      <th></th>\n",
              "      <th></th>\n",
              "      <th></th>\n",
              "      <th></th>\n",
              "    </tr>\n",
              "  </thead>\n",
              "  <tbody>\n",
              "    <tr>\n",
              "      <th>6037.0</th>\n",
              "      <td>2020-09-15</td>\n",
              "      <td>Los Angeles</td>\n",
              "      <td>California</td>\n",
              "      <td>255049</td>\n",
              "      <td>6273</td>\n",
              "    </tr>\n",
              "    <tr>\n",
              "      <th>12086.0</th>\n",
              "      <td>2020-09-15</td>\n",
              "      <td>Miami-Dade</td>\n",
              "      <td>Florida</td>\n",
              "      <td>164687</td>\n",
              "      <td>2923</td>\n",
              "    </tr>\n",
              "    <tr>\n",
              "      <th>4013.0</th>\n",
              "      <td>2020-09-15</td>\n",
              "      <td>Maricopa</td>\n",
              "      <td>Arizona</td>\n",
              "      <td>137870</td>\n",
              "      <td>3172</td>\n",
              "    </tr>\n",
              "    <tr>\n",
              "      <th>17031.0</th>\n",
              "      <td>2020-09-15</td>\n",
              "      <td>Cook</td>\n",
              "      <td>Illinois</td>\n",
              "      <td>135690</td>\n",
              "      <td>5137</td>\n",
              "    </tr>\n",
              "    <tr>\n",
              "      <th>48201.0</th>\n",
              "      <td>2020-09-15</td>\n",
              "      <td>Harris</td>\n",
              "      <td>Texas</td>\n",
              "      <td>120336</td>\n",
              "      <td>2440</td>\n",
              "    </tr>\n",
              "    <tr>\n",
              "      <th>48113.0</th>\n",
              "      <td>2020-09-15</td>\n",
              "      <td>Dallas</td>\n",
              "      <td>Texas</td>\n",
              "      <td>79474</td>\n",
              "      <td>1050</td>\n",
              "    </tr>\n",
              "    <tr>\n",
              "      <th>12011.0</th>\n",
              "      <td>2020-09-15</td>\n",
              "      <td>Broward</td>\n",
              "      <td>Florida</td>\n",
              "      <td>74689</td>\n",
              "      <td>1288</td>\n",
              "    </tr>\n",
              "    <tr>\n",
              "      <th>32003.0</th>\n",
              "      <td>2020-09-15</td>\n",
              "      <td>Clark</td>\n",
              "      <td>Nevada</td>\n",
              "      <td>62952</td>\n",
              "      <td>1287</td>\n",
              "    </tr>\n",
              "    <tr>\n",
              "      <th>6065.0</th>\n",
              "      <td>2020-09-15</td>\n",
              "      <td>Riverside</td>\n",
              "      <td>California</td>\n",
              "      <td>55986</td>\n",
              "      <td>1125</td>\n",
              "    </tr>\n",
              "    <tr>\n",
              "      <th>6059.0</th>\n",
              "      <td>2020-09-15</td>\n",
              "      <td>Orange</td>\n",
              "      <td>California</td>\n",
              "      <td>52316</td>\n",
              "      <td>1105</td>\n",
              "    </tr>\n",
              "  </tbody>\n",
              "</table>\n",
              "</div>"
            ],
            "text/plain": [
              "              date       county       state   cases  deaths\n",
              "fips                                                       \n",
              "6037.0  2020-09-15  Los Angeles  California  255049    6273\n",
              "12086.0 2020-09-15   Miami-Dade     Florida  164687    2923\n",
              "4013.0  2020-09-15     Maricopa     Arizona  137870    3172\n",
              "17031.0 2020-09-15         Cook    Illinois  135690    5137\n",
              "48201.0 2020-09-15       Harris       Texas  120336    2440\n",
              "48113.0 2020-09-15       Dallas       Texas   79474    1050\n",
              "12011.0 2020-09-15      Broward     Florida   74689    1288\n",
              "32003.0 2020-09-15        Clark      Nevada   62952    1287\n",
              "6065.0  2020-09-15    Riverside  California   55986    1125\n",
              "6059.0  2020-09-15       Orange  California   52316    1105"
            ]
          },
          "metadata": {
            "tags": []
          },
          "execution_count": 85
        }
      ]
    },
    {
      "cell_type": "code",
      "metadata": {
        "id": "6YdV11LIMvyW",
        "colab_type": "code",
        "colab": {
          "base_uri": "https://localhost:8080/",
          "height": 343
        },
        "outputId": "4b651d26-5755-42aa-8b72-ea00bea8e761"
      },
      "source": [
        "df.dtypes\n",
        "df['date'] = pd.to_datetime(df['date'])\n",
        "df[df['date'] == '2020-09-15'].sort_values(by='cases', ascending=False).head(10)"
      ],
      "execution_count": 26,
      "outputs": [
        {
          "output_type": "execute_result",
          "data": {
            "text/html": [
              "<div>\n",
              "<style scoped>\n",
              "    .dataframe tbody tr th:only-of-type {\n",
              "        vertical-align: middle;\n",
              "    }\n",
              "\n",
              "    .dataframe tbody tr th {\n",
              "        vertical-align: top;\n",
              "    }\n",
              "\n",
              "    .dataframe thead th {\n",
              "        text-align: right;\n",
              "    }\n",
              "</style>\n",
              "<table border=\"1\" class=\"dataframe\">\n",
              "  <thead>\n",
              "    <tr style=\"text-align: right;\">\n",
              "      <th></th>\n",
              "      <th>date</th>\n",
              "      <th>county</th>\n",
              "      <th>state</th>\n",
              "      <th>fips</th>\n",
              "      <th>cases</th>\n",
              "      <th>deaths</th>\n",
              "    </tr>\n",
              "  </thead>\n",
              "  <tbody>\n",
              "    <tr>\n",
              "      <th>534681</th>\n",
              "      <td>2020-09-15</td>\n",
              "      <td>Los Angeles</td>\n",
              "      <td>California</td>\n",
              "      <td>6037.0</td>\n",
              "      <td>255049</td>\n",
              "      <td>6273</td>\n",
              "    </tr>\n",
              "    <tr>\n",
              "      <th>536343</th>\n",
              "      <td>2020-09-15</td>\n",
              "      <td>New York City</td>\n",
              "      <td>New York</td>\n",
              "      <td>NaN</td>\n",
              "      <td>243061</td>\n",
              "      <td>23758</td>\n",
              "    </tr>\n",
              "    <tr>\n",
              "      <th>534840</th>\n",
              "      <td>2020-09-15</td>\n",
              "      <td>Miami-Dade</td>\n",
              "      <td>Florida</td>\n",
              "      <td>12086.0</td>\n",
              "      <td>164687</td>\n",
              "      <td>2923</td>\n",
              "    </tr>\n",
              "    <tr>\n",
              "      <th>534579</th>\n",
              "      <td>2020-09-15</td>\n",
              "      <td>Maricopa</td>\n",
              "      <td>Arizona</td>\n",
              "      <td>4013.0</td>\n",
              "      <td>137870</td>\n",
              "      <td>3172</td>\n",
              "    </tr>\n",
              "    <tr>\n",
              "      <th>535090</th>\n",
              "      <td>2020-09-15</td>\n",
              "      <td>Cook</td>\n",
              "      <td>Illinois</td>\n",
              "      <td>17031.0</td>\n",
              "      <td>135690</td>\n",
              "      <td>5137</td>\n",
              "    </tr>\n",
              "    <tr>\n",
              "      <th>537190</th>\n",
              "      <td>2020-09-15</td>\n",
              "      <td>Harris</td>\n",
              "      <td>Texas</td>\n",
              "      <td>48201.0</td>\n",
              "      <td>120336</td>\n",
              "      <td>2440</td>\n",
              "    </tr>\n",
              "    <tr>\n",
              "      <th>537146</th>\n",
              "      <td>2020-09-15</td>\n",
              "      <td>Dallas</td>\n",
              "      <td>Texas</td>\n",
              "      <td>48113.0</td>\n",
              "      <td>79474</td>\n",
              "      <td>1050</td>\n",
              "    </tr>\n",
              "    <tr>\n",
              "      <th>534803</th>\n",
              "      <td>2020-09-15</td>\n",
              "      <td>Broward</td>\n",
              "      <td>Florida</td>\n",
              "      <td>12011.0</td>\n",
              "      <td>74689</td>\n",
              "      <td>1288</td>\n",
              "    </tr>\n",
              "    <tr>\n",
              "      <th>536234</th>\n",
              "      <td>2020-09-15</td>\n",
              "      <td>Clark</td>\n",
              "      <td>Nevada</td>\n",
              "      <td>32003.0</td>\n",
              "      <td>62952</td>\n",
              "      <td>1287</td>\n",
              "    </tr>\n",
              "    <tr>\n",
              "      <th>534695</th>\n",
              "      <td>2020-09-15</td>\n",
              "      <td>Riverside</td>\n",
              "      <td>California</td>\n",
              "      <td>6065.0</td>\n",
              "      <td>55986</td>\n",
              "      <td>1125</td>\n",
              "    </tr>\n",
              "  </tbody>\n",
              "</table>\n",
              "</div>"
            ],
            "text/plain": [
              "             date         county       state     fips   cases  deaths\n",
              "534681 2020-09-15    Los Angeles  California   6037.0  255049    6273\n",
              "536343 2020-09-15  New York City    New York      NaN  243061   23758\n",
              "534840 2020-09-15     Miami-Dade     Florida  12086.0  164687    2923\n",
              "534579 2020-09-15       Maricopa     Arizona   4013.0  137870    3172\n",
              "535090 2020-09-15           Cook    Illinois  17031.0  135690    5137\n",
              "537190 2020-09-15         Harris       Texas  48201.0  120336    2440\n",
              "537146 2020-09-15         Dallas       Texas  48113.0   79474    1050\n",
              "534803 2020-09-15        Broward     Florida  12011.0   74689    1288\n",
              "536234 2020-09-15          Clark      Nevada  32003.0   62952    1287\n",
              "534695 2020-09-15      Riverside  California   6065.0   55986    1125"
            ]
          },
          "metadata": {
            "tags": []
          },
          "execution_count": 26
        }
      ]
    },
    {
      "cell_type": "code",
      "metadata": {
        "id": "83FjanyaYwzD",
        "colab_type": "code",
        "colab": {
          "base_uri": "https://localhost:8080/",
          "height": 373
        },
        "outputId": "2abc19cc-1561-4d49-c854-90f44e4f5d09"
      },
      "source": [
        "df.groupby('fips').last().sort_values(by='deaths', ascending=False).head(10)"
      ],
      "execution_count": 37,
      "outputs": [
        {
          "output_type": "execute_result",
          "data": {
            "text/html": [
              "<div>\n",
              "<style scoped>\n",
              "    .dataframe tbody tr th:only-of-type {\n",
              "        vertical-align: middle;\n",
              "    }\n",
              "\n",
              "    .dataframe tbody tr th {\n",
              "        vertical-align: top;\n",
              "    }\n",
              "\n",
              "    .dataframe thead th {\n",
              "        text-align: right;\n",
              "    }\n",
              "</style>\n",
              "<table border=\"1\" class=\"dataframe\">\n",
              "  <thead>\n",
              "    <tr style=\"text-align: right;\">\n",
              "      <th></th>\n",
              "      <th>date</th>\n",
              "      <th>county</th>\n",
              "      <th>state</th>\n",
              "      <th>cases</th>\n",
              "      <th>deaths</th>\n",
              "    </tr>\n",
              "    <tr>\n",
              "      <th>fips</th>\n",
              "      <th></th>\n",
              "      <th></th>\n",
              "      <th></th>\n",
              "      <th></th>\n",
              "      <th></th>\n",
              "    </tr>\n",
              "  </thead>\n",
              "  <tbody>\n",
              "    <tr>\n",
              "      <th>6037.0</th>\n",
              "      <td>2020-09-15</td>\n",
              "      <td>Los Angeles</td>\n",
              "      <td>California</td>\n",
              "      <td>255049</td>\n",
              "      <td>6273</td>\n",
              "    </tr>\n",
              "    <tr>\n",
              "      <th>17031.0</th>\n",
              "      <td>2020-09-15</td>\n",
              "      <td>Cook</td>\n",
              "      <td>Illinois</td>\n",
              "      <td>135690</td>\n",
              "      <td>5137</td>\n",
              "    </tr>\n",
              "    <tr>\n",
              "      <th>4013.0</th>\n",
              "      <td>2020-09-15</td>\n",
              "      <td>Maricopa</td>\n",
              "      <td>Arizona</td>\n",
              "      <td>137870</td>\n",
              "      <td>3172</td>\n",
              "    </tr>\n",
              "    <tr>\n",
              "      <th>26163.0</th>\n",
              "      <td>2020-09-15</td>\n",
              "      <td>Wayne</td>\n",
              "      <td>Michigan</td>\n",
              "      <td>33678</td>\n",
              "      <td>2948</td>\n",
              "    </tr>\n",
              "    <tr>\n",
              "      <th>12086.0</th>\n",
              "      <td>2020-09-15</td>\n",
              "      <td>Miami-Dade</td>\n",
              "      <td>Florida</td>\n",
              "      <td>164687</td>\n",
              "      <td>2923</td>\n",
              "    </tr>\n",
              "    <tr>\n",
              "      <th>48201.0</th>\n",
              "      <td>2020-09-15</td>\n",
              "      <td>Harris</td>\n",
              "      <td>Texas</td>\n",
              "      <td>120336</td>\n",
              "      <td>2440</td>\n",
              "    </tr>\n",
              "    <tr>\n",
              "      <th>36059.0</th>\n",
              "      <td>2020-09-15</td>\n",
              "      <td>Nassau</td>\n",
              "      <td>New York</td>\n",
              "      <td>45840</td>\n",
              "      <td>2201</td>\n",
              "    </tr>\n",
              "    <tr>\n",
              "      <th>34013.0</th>\n",
              "      <td>2020-09-15</td>\n",
              "      <td>Essex</td>\n",
              "      <td>New Jersey</td>\n",
              "      <td>20931</td>\n",
              "      <td>2122</td>\n",
              "    </tr>\n",
              "    <tr>\n",
              "      <th>25017.0</th>\n",
              "      <td>2020-09-15</td>\n",
              "      <td>Middlesex</td>\n",
              "      <td>Massachusetts</td>\n",
              "      <td>26304</td>\n",
              "      <td>2109</td>\n",
              "    </tr>\n",
              "    <tr>\n",
              "      <th>34003.0</th>\n",
              "      <td>2020-09-15</td>\n",
              "      <td>Bergen</td>\n",
              "      <td>New Jersey</td>\n",
              "      <td>22242</td>\n",
              "      <td>2042</td>\n",
              "    </tr>\n",
              "  </tbody>\n",
              "</table>\n",
              "</div>"
            ],
            "text/plain": [
              "              date       county          state   cases  deaths\n",
              "fips                                                          \n",
              "6037.0  2020-09-15  Los Angeles     California  255049    6273\n",
              "17031.0 2020-09-15         Cook       Illinois  135690    5137\n",
              "4013.0  2020-09-15     Maricopa        Arizona  137870    3172\n",
              "26163.0 2020-09-15        Wayne       Michigan   33678    2948\n",
              "12086.0 2020-09-15   Miami-Dade        Florida  164687    2923\n",
              "48201.0 2020-09-15       Harris          Texas  120336    2440\n",
              "36059.0 2020-09-15       Nassau       New York   45840    2201\n",
              "34013.0 2020-09-15        Essex     New Jersey   20931    2122\n",
              "25017.0 2020-09-15    Middlesex  Massachusetts   26304    2109\n",
              "34003.0 2020-09-15       Bergen     New Jersey   22242    2042"
            ]
          },
          "metadata": {
            "tags": []
          },
          "execution_count": 37
        }
      ]
    },
    {
      "cell_type": "code",
      "metadata": {
        "id": "AiCLwV98Y5bM",
        "colab_type": "code",
        "colab": {
          "base_uri": "https://localhost:8080/",
          "height": 343
        },
        "outputId": "cab31c40-1c17-4ecc-ec2e-5888b0df183e"
      },
      "source": [
        "df.dtypes\n",
        "df['date'] = pd.to_datetime(df['date'])\n",
        "df[df['date'] == '2020-09-15'].sort_values(by='deaths', ascending=False).head(10)"
      ],
      "execution_count": 38,
      "outputs": [
        {
          "output_type": "execute_result",
          "data": {
            "text/html": [
              "<div>\n",
              "<style scoped>\n",
              "    .dataframe tbody tr th:only-of-type {\n",
              "        vertical-align: middle;\n",
              "    }\n",
              "\n",
              "    .dataframe tbody tr th {\n",
              "        vertical-align: top;\n",
              "    }\n",
              "\n",
              "    .dataframe thead th {\n",
              "        text-align: right;\n",
              "    }\n",
              "</style>\n",
              "<table border=\"1\" class=\"dataframe\">\n",
              "  <thead>\n",
              "    <tr style=\"text-align: right;\">\n",
              "      <th></th>\n",
              "      <th>date</th>\n",
              "      <th>county</th>\n",
              "      <th>state</th>\n",
              "      <th>fips</th>\n",
              "      <th>cases</th>\n",
              "      <th>deaths</th>\n",
              "    </tr>\n",
              "  </thead>\n",
              "  <tbody>\n",
              "    <tr>\n",
              "      <th>536343</th>\n",
              "      <td>2020-09-15</td>\n",
              "      <td>New York City</td>\n",
              "      <td>New York</td>\n",
              "      <td>NaN</td>\n",
              "      <td>243061</td>\n",
              "      <td>23758</td>\n",
              "    </tr>\n",
              "    <tr>\n",
              "      <th>534681</th>\n",
              "      <td>2020-09-15</td>\n",
              "      <td>Los Angeles</td>\n",
              "      <td>California</td>\n",
              "      <td>6037.0</td>\n",
              "      <td>255049</td>\n",
              "      <td>6273</td>\n",
              "    </tr>\n",
              "    <tr>\n",
              "      <th>535090</th>\n",
              "      <td>2020-09-15</td>\n",
              "      <td>Cook</td>\n",
              "      <td>Illinois</td>\n",
              "      <td>17031.0</td>\n",
              "      <td>135690</td>\n",
              "      <td>5137</td>\n",
              "    </tr>\n",
              "    <tr>\n",
              "      <th>534579</th>\n",
              "      <td>2020-09-15</td>\n",
              "      <td>Maricopa</td>\n",
              "      <td>Arizona</td>\n",
              "      <td>4013.0</td>\n",
              "      <td>137870</td>\n",
              "      <td>3172</td>\n",
              "    </tr>\n",
              "    <tr>\n",
              "      <th>535798</th>\n",
              "      <td>2020-09-15</td>\n",
              "      <td>Wayne</td>\n",
              "      <td>Michigan</td>\n",
              "      <td>26163.0</td>\n",
              "      <td>33678</td>\n",
              "      <td>2948</td>\n",
              "    </tr>\n",
              "    <tr>\n",
              "      <th>534840</th>\n",
              "      <td>2020-09-15</td>\n",
              "      <td>Miami-Dade</td>\n",
              "      <td>Florida</td>\n",
              "      <td>12086.0</td>\n",
              "      <td>164687</td>\n",
              "      <td>2923</td>\n",
              "    </tr>\n",
              "    <tr>\n",
              "      <th>537190</th>\n",
              "      <td>2020-09-15</td>\n",
              "      <td>Harris</td>\n",
              "      <td>Texas</td>\n",
              "      <td>48201.0</td>\n",
              "      <td>120336</td>\n",
              "      <td>2440</td>\n",
              "    </tr>\n",
              "    <tr>\n",
              "      <th>536342</th>\n",
              "      <td>2020-09-15</td>\n",
              "      <td>Nassau</td>\n",
              "      <td>New York</td>\n",
              "      <td>36059.0</td>\n",
              "      <td>45840</td>\n",
              "      <td>2201</td>\n",
              "    </tr>\n",
              "    <tr>\n",
              "      <th>536265</th>\n",
              "      <td>2020-09-15</td>\n",
              "      <td>Essex</td>\n",
              "      <td>New Jersey</td>\n",
              "      <td>34013.0</td>\n",
              "      <td>20931</td>\n",
              "      <td>2122</td>\n",
              "    </tr>\n",
              "    <tr>\n",
              "      <th>535709</th>\n",
              "      <td>2020-09-15</td>\n",
              "      <td>Middlesex</td>\n",
              "      <td>Massachusetts</td>\n",
              "      <td>25017.0</td>\n",
              "      <td>26304</td>\n",
              "      <td>2109</td>\n",
              "    </tr>\n",
              "  </tbody>\n",
              "</table>\n",
              "</div>"
            ],
            "text/plain": [
              "             date         county          state     fips   cases  deaths\n",
              "536343 2020-09-15  New York City       New York      NaN  243061   23758\n",
              "534681 2020-09-15    Los Angeles     California   6037.0  255049    6273\n",
              "535090 2020-09-15           Cook       Illinois  17031.0  135690    5137\n",
              "534579 2020-09-15       Maricopa        Arizona   4013.0  137870    3172\n",
              "535798 2020-09-15          Wayne       Michigan  26163.0   33678    2948\n",
              "534840 2020-09-15     Miami-Dade        Florida  12086.0  164687    2923\n",
              "537190 2020-09-15         Harris          Texas  48201.0  120336    2440\n",
              "536342 2020-09-15         Nassau       New York  36059.0   45840    2201\n",
              "536265 2020-09-15          Essex     New Jersey  34013.0   20931    2122\n",
              "535709 2020-09-15      Middlesex  Massachusetts  25017.0   26304    2109"
            ]
          },
          "metadata": {
            "tags": []
          },
          "execution_count": 38
        }
      ]
    },
    {
      "cell_type": "code",
      "metadata": {
        "id": "cLe0CsJVQ5Tu",
        "colab_type": "code",
        "colab": {
          "base_uri": "https://localhost:8080/",
          "height": 34
        },
        "outputId": "0c74a872-5156-418e-c017-efc38decc808"
      },
      "source": [
        "NY_cases = df['cases']\n",
        "NY_cases = df[(df['state'] == 'New York')]['cases'].count()\n",
        "NY_cases.sum()\n"
      ],
      "execution_count": 79,
      "outputs": [
        {
          "output_type": "execute_result",
          "data": {
            "text/plain": [
              "10602"
            ]
          },
          "metadata": {
            "tags": []
          },
          "execution_count": 79
        }
      ]
    },
    {
      "cell_type": "markdown",
      "metadata": {
        "id": "OE6JuufuLcBI",
        "colab_type": "text"
      },
      "source": [
        "### Death rate per FIPS"
      ]
    },
    {
      "cell_type": "code",
      "metadata": {
        "id": "iudGuZKTUpD_",
        "colab_type": "code",
        "colab": {}
      },
      "source": [
        "data_per_fips = df.loc[lambda df: df['date'] == df['date'].max(), ['county', 'state', 'fips', 'cases', 'deaths']]\n",
        "data_per_fips_countywise = data_per_fips.set_index('county')\n",
        "cases = data_per_fips_countywise['cases']\n",
        "deaths = data_per_fips_countywise['deaths']"
      ],
      "execution_count": 80,
      "outputs": []
    },
    {
      "cell_type": "code",
      "metadata": {
        "id": "IUyhZc7vWmsf",
        "colab_type": "code",
        "colab": {
          "base_uri": "https://localhost:8080/",
          "height": 235
        },
        "outputId": "67fce7e2-de11-4f84-9081-7f31622c5d93"
      },
      "source": [
        "death_rate_per_fips = (deaths / cases) * 100\n",
        "death_rate_per_fips"
      ],
      "execution_count": 81,
      "outputs": [
        {
          "output_type": "execute_result",
          "data": {
            "text/plain": [
              "county\n",
              "Autauga       1.499063\n",
              "Baldwin       0.941506\n",
              "Barbour       0.868486\n",
              "Bibb          1.472995\n",
              "Blount        0.881356\n",
              "                ...   \n",
              "Sweetwater    0.630915\n",
              "Teton         0.209205\n",
              "Uinta         0.641026\n",
              "Washakie      5.454545\n",
              "Weston        0.000000\n",
              "Length: 3236, dtype: float64"
            ]
          },
          "metadata": {
            "tags": []
          },
          "execution_count": 81
        }
      ]
    },
    {
      "cell_type": "markdown",
      "metadata": {
        "id": "RwS8UaxR7sqk",
        "colab_type": "text"
      },
      "source": [
        "## Bonus Point\n",
        "## A function that makes \"Folium Choropleth Map\" for Weekly Cases, Weekly Deaths and Weekly Mortality Rate\n",
        "### ALL COUNTIES\n",
        "\n",
        "\n",
        "#### def Folium_Choropleth(type = 'cases',date=''):\n"
      ]
    },
    {
      "cell_type": "code",
      "metadata": {
        "id": "cn3GHzr-2a6D",
        "colab_type": "code",
        "colab": {}
      },
      "source": [
        "import folium\n",
        "from folium import plugins\n",
        "from folium.plugins import HeatMap\n",
        "\n",
        "#df_daily = df.diff().fillna(0)\n",
        "#df_daily.tail(10)\n",
        "\n"
      ],
      "execution_count": null,
      "outputs": []
    },
    {
      "cell_type": "code",
      "metadata": {
        "id": "5YQNfoXB71k2",
        "colab_type": "code",
        "colab": {}
      },
      "source": [
        "#df_rolling_avg = df_daily.iloc[-14:].rolling(window=7).mean().fillna(0)\n",
        "\n",
        "#def Folium_Choropleth(type = 'cases', date=' '):\n"
      ],
      "execution_count": null,
      "outputs": []
    }
  ]
}